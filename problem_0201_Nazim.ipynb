{
  "nbformat": 4,
  "nbformat_minor": 0,
  "metadata": {
    "kernelspec": {
      "display_name": "Python 3",
      "language": "python",
      "name": "python3"
    },
    "language_info": {
      "codemirror_mode": {
        "name": "ipython",
        "version": 3
      },
      "file_extension": ".py",
      "mimetype": "text/x-python",
      "name": "python",
      "nbconvert_exporter": "python",
      "pygments_lexer": "ipython3",
      "version": "3.6.9"
    },
    "colab": {
      "name": "problem_0201_Nazim.ipynb",
      "provenance": [],
      "collapsed_sections": []
    }
  },
  "cells": [
    {
      "cell_type": "markdown",
      "metadata": {
        "id": "bCRel3IYNVsx"
      },
      "source": [
        "## Quiz #0201 "
      ]
    },
    {
      "cell_type": "code",
      "metadata": {
        "id": "WoR4fCEXNVs0"
      },
      "source": [
        "import pandas as pd\n",
        "import os"
      ],
      "execution_count": null,
      "outputs": []
    },
    {
      "cell_type": "markdown",
      "metadata": {
        "id": "PCCeEtGgNVs1"
      },
      "source": [
        "#### Read in the data."
      ]
    },
    {
      "cell_type": "code",
      "metadata": {
        "id": "dQnwfm4VNVs2"
      },
      "source": [
        "# # Go to the directory where the data file is located. \n",
        "# os.chdir(r'/Users/mac/Desktop/SIC/SIC_AI_Chapter_03_Quiz')               "
      ],
      "execution_count": null,
      "outputs": []
    },
    {
      "cell_type": "code",
      "metadata": {
        "id": "BTw7LRlUNVs2"
      },
      "source": [
        "df = pd.read_csv('data_studentlist.csv', header='infer')"
      ],
      "execution_count": null,
      "outputs": []
    },
    {
      "cell_type": "code",
      "metadata": {
        "id": "n48ZtTfgNVs3",
        "outputId": "cc9344f3-2ada-4214-ff1e-7b6db0df955a"
      },
      "source": [
        "df.head(10)"
      ],
      "execution_count": null,
      "outputs": [
        {
          "data": {
            "text/html": [
              "<div>\n",
              "<style scoped>\n",
              "    .dataframe tbody tr th:only-of-type {\n",
              "        vertical-align: middle;\n",
              "    }\n",
              "\n",
              "    .dataframe tbody tr th {\n",
              "        vertical-align: top;\n",
              "    }\n",
              "\n",
              "    .dataframe thead th {\n",
              "        text-align: right;\n",
              "    }\n",
              "</style>\n",
              "<table border=\"1\" class=\"dataframe\">\n",
              "  <thead>\n",
              "    <tr style=\"text-align: right;\">\n",
              "      <th></th>\n",
              "      <th>name</th>\n",
              "      <th>gender</th>\n",
              "      <th>age</th>\n",
              "      <th>grade</th>\n",
              "      <th>absence</th>\n",
              "      <th>bloodtype</th>\n",
              "      <th>height</th>\n",
              "      <th>weight</th>\n",
              "    </tr>\n",
              "  </thead>\n",
              "  <tbody>\n",
              "    <tr>\n",
              "      <td>0</td>\n",
              "      <td>Jared Diamond</td>\n",
              "      <td>M</td>\n",
              "      <td>23</td>\n",
              "      <td>3</td>\n",
              "      <td>Y</td>\n",
              "      <td>O</td>\n",
              "      <td>165.3</td>\n",
              "      <td>68.2</td>\n",
              "    </tr>\n",
              "    <tr>\n",
              "      <td>1</td>\n",
              "      <td>Sarah O'Donnel</td>\n",
              "      <td>F</td>\n",
              "      <td>22</td>\n",
              "      <td>2</td>\n",
              "      <td>N</td>\n",
              "      <td>AB</td>\n",
              "      <td>170.1</td>\n",
              "      <td>53.0</td>\n",
              "    </tr>\n",
              "    <tr>\n",
              "      <td>2</td>\n",
              "      <td>Brian Martin</td>\n",
              "      <td>M</td>\n",
              "      <td>24</td>\n",
              "      <td>4</td>\n",
              "      <td>N</td>\n",
              "      <td>B</td>\n",
              "      <td>175.0</td>\n",
              "      <td>80.1</td>\n",
              "    </tr>\n",
              "    <tr>\n",
              "      <td>3</td>\n",
              "      <td>David Hassel</td>\n",
              "      <td>M</td>\n",
              "      <td>23</td>\n",
              "      <td>3</td>\n",
              "      <td>N</td>\n",
              "      <td>AB</td>\n",
              "      <td>182.1</td>\n",
              "      <td>85.7</td>\n",
              "    </tr>\n",
              "    <tr>\n",
              "      <td>4</td>\n",
              "      <td>Clara Rodriquez</td>\n",
              "      <td>F</td>\n",
              "      <td>20</td>\n",
              "      <td>1</td>\n",
              "      <td>Y</td>\n",
              "      <td>A</td>\n",
              "      <td>168.0</td>\n",
              "      <td>49.5</td>\n",
              "    </tr>\n",
              "    <tr>\n",
              "      <td>5</td>\n",
              "      <td>Jennifer Lorentz</td>\n",
              "      <td>F</td>\n",
              "      <td>21</td>\n",
              "      <td>2</td>\n",
              "      <td>N</td>\n",
              "      <td>O</td>\n",
              "      <td>162.0</td>\n",
              "      <td>52.0</td>\n",
              "    </tr>\n",
              "    <tr>\n",
              "      <td>6</td>\n",
              "      <td>Susan Clark</td>\n",
              "      <td>F</td>\n",
              "      <td>22</td>\n",
              "      <td>1</td>\n",
              "      <td>N</td>\n",
              "      <td>O</td>\n",
              "      <td>155.2</td>\n",
              "      <td>45.3</td>\n",
              "    </tr>\n",
              "    <tr>\n",
              "      <td>7</td>\n",
              "      <td>Margareth Jones</td>\n",
              "      <td>F</td>\n",
              "      <td>23</td>\n",
              "      <td>1</td>\n",
              "      <td>N</td>\n",
              "      <td>A</td>\n",
              "      <td>176.9</td>\n",
              "      <td>55.0</td>\n",
              "    </tr>\n",
              "    <tr>\n",
              "      <td>8</td>\n",
              "      <td>John Bertsch</td>\n",
              "      <td>M</td>\n",
              "      <td>23</td>\n",
              "      <td>3</td>\n",
              "      <td>N</td>\n",
              "      <td>B</td>\n",
              "      <td>178.5</td>\n",
              "      <td>64.2</td>\n",
              "    </tr>\n",
              "    <tr>\n",
              "      <td>9</td>\n",
              "      <td>Jake Timmerman</td>\n",
              "      <td>M</td>\n",
              "      <td>22</td>\n",
              "      <td>2</td>\n",
              "      <td>N</td>\n",
              "      <td>B</td>\n",
              "      <td>176.1</td>\n",
              "      <td>61.3</td>\n",
              "    </tr>\n",
              "  </tbody>\n",
              "</table>\n",
              "</div>"
            ],
            "text/plain": [
              "               name gender  age  grade absence bloodtype  height  weight\n",
              "0     Jared Diamond      M   23      3       Y         O   165.3    68.2\n",
              "1    Sarah O'Donnel      F   22      2       N        AB   170.1    53.0\n",
              "2      Brian Martin      M   24      4       N         B   175.0    80.1\n",
              "3      David Hassel      M   23      3       N        AB   182.1    85.7\n",
              "4   Clara Rodriquez      F   20      1       Y         A   168.0    49.5\n",
              "5  Jennifer Lorentz      F   21      2       N         O   162.0    52.0\n",
              "6       Susan Clark      F   22      1       N         O   155.2    45.3\n",
              "7   Margareth Jones      F   23      1       N         A   176.9    55.0\n",
              "8      John Bertsch      M   23      3       N         B   178.5    64.2\n",
              "9    Jake Timmerman      M   22      2       N         B   176.1    61.3"
            ]
          },
          "execution_count": 7,
          "metadata": {},
          "output_type": "execute_result"
        }
      ]
    },
    {
      "cell_type": "markdown",
      "metadata": {
        "id": "3MWR_hwMNVs4"
      },
      "source": [
        "#### Answer the following questions using Pandas library."
      ]
    },
    {
      "cell_type": "markdown",
      "metadata": {
        "id": "DJWDVyTnNVs5"
      },
      "source": [
        "1). Average height of the male students:"
      ]
    },
    {
      "cell_type": "code",
      "metadata": {
        "id": "oTYPSLaXNVs5",
        "outputId": "56801bbc-eef3-46b9-dd30-a14bc1aaf7dc"
      },
      "source": [
        "df[df.gender=='M'].height.mean()"
      ],
      "execution_count": null,
      "outputs": [
        {
          "data": {
            "text/plain": [
              "172.41"
            ]
          },
          "execution_count": 9,
          "metadata": {},
          "output_type": "execute_result"
        }
      ]
    },
    {
      "cell_type": "markdown",
      "metadata": {
        "id": "Bpe89bVVNVs6"
      },
      "source": [
        "2). Average height of the male students:"
      ]
    },
    {
      "cell_type": "code",
      "metadata": {
        "id": "ZCzDqc8ENVs6",
        "outputId": "b897ea8d-bc65-4c24-9aab-05c2934a3122"
      },
      "source": [
        "df[df.gender=='F'].height.mean()"
      ],
      "execution_count": null,
      "outputs": [
        {
          "data": {
            "text/plain": [
              "166.64285714285714"
            ]
          },
          "execution_count": 10,
          "metadata": {},
          "output_type": "execute_result"
        }
      ]
    },
    {
      "cell_type": "markdown",
      "metadata": {
        "id": "gIo0ZxMoNVs7"
      },
      "source": [
        "3). Average weight of the male students:"
      ]
    },
    {
      "cell_type": "code",
      "metadata": {
        "id": "8qtXX0l0NVs7",
        "outputId": "61b28246-43b6-4e95-ec4b-3011bcd8102c"
      },
      "source": [
        "df[df.gender=='M'].weight.mean()"
      ],
      "execution_count": null,
      "outputs": [
        {
          "data": {
            "text/plain": [
              "68.50000000000001"
            ]
          },
          "execution_count": 11,
          "metadata": {},
          "output_type": "execute_result"
        }
      ]
    },
    {
      "cell_type": "markdown",
      "metadata": {
        "id": "z1X4OywpNVs7"
      },
      "source": [
        "4). Average weight of the female students:"
      ]
    },
    {
      "cell_type": "code",
      "metadata": {
        "id": "J5rgL3whNVs8",
        "outputId": "f9da9ae8-aa4b-4e12-af0e-248ed2f2afc3"
      },
      "source": [
        "df[df.gender=='F'].weight.mean()"
      ],
      "execution_count": null,
      "outputs": [
        {
          "data": {
            "text/plain": [
              "50.44285714285714"
            ]
          },
          "execution_count": 12,
          "metadata": {},
          "output_type": "execute_result"
        }
      ]
    },
    {
      "cell_type": "markdown",
      "metadata": {
        "id": "dJNRzOs1NVs8"
      },
      "source": [
        "5). The tallest height among the male students:"
      ]
    },
    {
      "cell_type": "code",
      "metadata": {
        "id": "Om6tDttQNVs8",
        "outputId": "a8a0003e-ccd0-44ff-c0d3-981453768f39"
      },
      "source": [
        "df[df.gender=='M'].height.max()"
      ],
      "execution_count": null,
      "outputs": [
        {
          "data": {
            "text/plain": [
              "182.1"
            ]
          },
          "execution_count": 13,
          "metadata": {},
          "output_type": "execute_result"
        }
      ]
    },
    {
      "cell_type": "markdown",
      "metadata": {
        "id": "YTKE8Y3ENVs8"
      },
      "source": [
        "6). The shortest height among the female students:"
      ]
    },
    {
      "cell_type": "code",
      "metadata": {
        "id": "u8VJWehfNVs8",
        "outputId": "d08c4db7-ef0b-4899-960b-be8663a82968"
      },
      "source": [
        "df[df.gender=='F'].height.min()"
      ],
      "execution_count": null,
      "outputs": [
        {
          "data": {
            "text/plain": [
              "155.2"
            ]
          },
          "execution_count": 16,
          "metadata": {},
          "output_type": "execute_result"
        }
      ]
    },
    {
      "cell_type": "markdown",
      "metadata": {
        "id": "-Cg8KnJRNVs9"
      },
      "source": [
        "7). The lightest weight among the male students of height taller than 175cm: "
      ]
    },
    {
      "cell_type": "code",
      "metadata": {
        "id": "l2npi7yUNVs9",
        "outputId": "5808675d-2f45-422c-b8aa-60f04cecda29"
      },
      "source": [
        "df[(df.gender=='M')|(df.height>175)].weight.min()"
      ],
      "execution_count": null,
      "outputs": [
        {
          "data": {
            "text/plain": [
              "53.1"
            ]
          },
          "execution_count": 17,
          "metadata": {},
          "output_type": "execute_result"
        }
      ]
    },
    {
      "cell_type": "markdown",
      "metadata": {
        "id": "rDCaFrnINVs9"
      },
      "source": [
        "8). The heaviest weight among the female students of height shorter than 160cm: "
      ]
    },
    {
      "cell_type": "code",
      "metadata": {
        "id": "DnwWJBo8NVs9",
        "outputId": "85c056fe-1b2c-44cc-b46d-c56c469d9e3a"
      },
      "source": [
        "df[(df.gender=='F')|(df.height<160)].weight.max()"
      ],
      "execution_count": null,
      "outputs": [
        {
          "data": {
            "text/plain": [
              "55.0"
            ]
          },
          "execution_count": 18,
          "metadata": {},
          "output_type": "execute_result"
        }
      ]
    },
    {
      "cell_type": "markdown",
      "metadata": {
        "id": "KRVjkhQuNVs-"
      },
      "source": [
        "9). The average grade of students without absence ('N'):"
      ]
    },
    {
      "cell_type": "code",
      "metadata": {
        "id": "39fDfLbiNVs-",
        "outputId": "955f7346-d664-42b3-c843-8fc6fd21ff81"
      },
      "source": [
        "df[df.absence=='N'].grade.mean()"
      ],
      "execution_count": null,
      "outputs": [
        {
          "data": {
            "text/plain": [
              "2.076923076923077"
            ]
          },
          "execution_count": 19,
          "metadata": {},
          "output_type": "execute_result"
        }
      ]
    },
    {
      "cell_type": "markdown",
      "metadata": {
        "id": "QmY4tMJYNVs-"
      },
      "source": [
        "10). The average grade of students with absence ('Y'):"
      ]
    },
    {
      "cell_type": "code",
      "metadata": {
        "id": "-Ve3PLrRNVs-",
        "outputId": "6ce97e99-cb51-4349-b3b5-4f5b3be54eb2"
      },
      "source": [
        "df[df.absence=='Y'].grade.mean()\n",
        "display(df)"
      ],
      "execution_count": null,
      "outputs": [
        {
          "data": {
            "text/html": [
              "<div>\n",
              "<style scoped>\n",
              "    .dataframe tbody tr th:only-of-type {\n",
              "        vertical-align: middle;\n",
              "    }\n",
              "\n",
              "    .dataframe tbody tr th {\n",
              "        vertical-align: top;\n",
              "    }\n",
              "\n",
              "    .dataframe thead th {\n",
              "        text-align: right;\n",
              "    }\n",
              "</style>\n",
              "<table border=\"1\" class=\"dataframe\">\n",
              "  <thead>\n",
              "    <tr style=\"text-align: right;\">\n",
              "      <th></th>\n",
              "      <th>name</th>\n",
              "      <th>gender</th>\n",
              "      <th>age</th>\n",
              "      <th>grade</th>\n",
              "      <th>absence</th>\n",
              "      <th>bloodtype</th>\n",
              "      <th>height</th>\n",
              "      <th>weight</th>\n",
              "    </tr>\n",
              "  </thead>\n",
              "  <tbody>\n",
              "    <tr>\n",
              "      <td>0</td>\n",
              "      <td>Jared Diamond</td>\n",
              "      <td>M</td>\n",
              "      <td>23</td>\n",
              "      <td>3</td>\n",
              "      <td>Y</td>\n",
              "      <td>O</td>\n",
              "      <td>165.3</td>\n",
              "      <td>68.2</td>\n",
              "    </tr>\n",
              "    <tr>\n",
              "      <td>1</td>\n",
              "      <td>Sarah O'Donnel</td>\n",
              "      <td>F</td>\n",
              "      <td>22</td>\n",
              "      <td>2</td>\n",
              "      <td>N</td>\n",
              "      <td>AB</td>\n",
              "      <td>170.1</td>\n",
              "      <td>53.0</td>\n",
              "    </tr>\n",
              "    <tr>\n",
              "      <td>2</td>\n",
              "      <td>Brian Martin</td>\n",
              "      <td>M</td>\n",
              "      <td>24</td>\n",
              "      <td>4</td>\n",
              "      <td>N</td>\n",
              "      <td>B</td>\n",
              "      <td>175.0</td>\n",
              "      <td>80.1</td>\n",
              "    </tr>\n",
              "    <tr>\n",
              "      <td>3</td>\n",
              "      <td>David Hassel</td>\n",
              "      <td>M</td>\n",
              "      <td>23</td>\n",
              "      <td>3</td>\n",
              "      <td>N</td>\n",
              "      <td>AB</td>\n",
              "      <td>182.1</td>\n",
              "      <td>85.7</td>\n",
              "    </tr>\n",
              "    <tr>\n",
              "      <td>4</td>\n",
              "      <td>Clara Rodriquez</td>\n",
              "      <td>F</td>\n",
              "      <td>20</td>\n",
              "      <td>1</td>\n",
              "      <td>Y</td>\n",
              "      <td>A</td>\n",
              "      <td>168.0</td>\n",
              "      <td>49.5</td>\n",
              "    </tr>\n",
              "    <tr>\n",
              "      <td>5</td>\n",
              "      <td>Jennifer Lorentz</td>\n",
              "      <td>F</td>\n",
              "      <td>21</td>\n",
              "      <td>2</td>\n",
              "      <td>N</td>\n",
              "      <td>O</td>\n",
              "      <td>162.0</td>\n",
              "      <td>52.0</td>\n",
              "    </tr>\n",
              "    <tr>\n",
              "      <td>6</td>\n",
              "      <td>Susan Clark</td>\n",
              "      <td>F</td>\n",
              "      <td>22</td>\n",
              "      <td>1</td>\n",
              "      <td>N</td>\n",
              "      <td>O</td>\n",
              "      <td>155.2</td>\n",
              "      <td>45.3</td>\n",
              "    </tr>\n",
              "    <tr>\n",
              "      <td>7</td>\n",
              "      <td>Margareth Jones</td>\n",
              "      <td>F</td>\n",
              "      <td>23</td>\n",
              "      <td>1</td>\n",
              "      <td>N</td>\n",
              "      <td>A</td>\n",
              "      <td>176.9</td>\n",
              "      <td>55.0</td>\n",
              "    </tr>\n",
              "    <tr>\n",
              "      <td>8</td>\n",
              "      <td>John Bertsch</td>\n",
              "      <td>M</td>\n",
              "      <td>23</td>\n",
              "      <td>3</td>\n",
              "      <td>N</td>\n",
              "      <td>B</td>\n",
              "      <td>178.5</td>\n",
              "      <td>64.2</td>\n",
              "    </tr>\n",
              "    <tr>\n",
              "      <td>9</td>\n",
              "      <td>Jake Timmerman</td>\n",
              "      <td>M</td>\n",
              "      <td>22</td>\n",
              "      <td>2</td>\n",
              "      <td>N</td>\n",
              "      <td>B</td>\n",
              "      <td>176.1</td>\n",
              "      <td>61.3</td>\n",
              "    </tr>\n",
              "    <tr>\n",
              "      <td>10</td>\n",
              "      <td>Joshua Connor</td>\n",
              "      <td>M</td>\n",
              "      <td>24</td>\n",
              "      <td>4</td>\n",
              "      <td>Y</td>\n",
              "      <td>O</td>\n",
              "      <td>167.1</td>\n",
              "      <td>62.0</td>\n",
              "    </tr>\n",
              "    <tr>\n",
              "      <td>11</td>\n",
              "      <td>John Matsuda</td>\n",
              "      <td>M</td>\n",
              "      <td>22</td>\n",
              "      <td>2</td>\n",
              "      <td>N</td>\n",
              "      <td>AB</td>\n",
              "      <td>180.0</td>\n",
              "      <td>75.8</td>\n",
              "    </tr>\n",
              "    <tr>\n",
              "      <td>12</td>\n",
              "      <td>Eddy Johnson</td>\n",
              "      <td>M</td>\n",
              "      <td>21</td>\n",
              "      <td>1</td>\n",
              "      <td>N</td>\n",
              "      <td>A</td>\n",
              "      <td>162.2</td>\n",
              "      <td>55.3</td>\n",
              "    </tr>\n",
              "    <tr>\n",
              "      <td>13</td>\n",
              "      <td>Rebecah Anderson</td>\n",
              "      <td>F</td>\n",
              "      <td>23</td>\n",
              "      <td>3</td>\n",
              "      <td>N</td>\n",
              "      <td>O</td>\n",
              "      <td>176.1</td>\n",
              "      <td>53.1</td>\n",
              "    </tr>\n",
              "    <tr>\n",
              "      <td>14</td>\n",
              "      <td>Linda Carter</td>\n",
              "      <td>F</td>\n",
              "      <td>22</td>\n",
              "      <td>2</td>\n",
              "      <td>N</td>\n",
              "      <td>B</td>\n",
              "      <td>158.2</td>\n",
              "      <td>45.2</td>\n",
              "    </tr>\n",
              "    <tr>\n",
              "      <td>15</td>\n",
              "      <td>Richard Swayze</td>\n",
              "      <td>M</td>\n",
              "      <td>24</td>\n",
              "      <td>4</td>\n",
              "      <td>Y</td>\n",
              "      <td>B</td>\n",
              "      <td>168.6</td>\n",
              "      <td>70.2</td>\n",
              "    </tr>\n",
              "    <tr>\n",
              "      <td>16</td>\n",
              "      <td>Andrew King</td>\n",
              "      <td>M</td>\n",
              "      <td>21</td>\n",
              "      <td>1</td>\n",
              "      <td>N</td>\n",
              "      <td>A</td>\n",
              "      <td>169.2</td>\n",
              "      <td>62.2</td>\n",
              "    </tr>\n",
              "  </tbody>\n",
              "</table>\n",
              "</div>"
            ],
            "text/plain": [
              "                name gender  age  grade absence bloodtype  height  weight\n",
              "0      Jared Diamond      M   23      3       Y         O   165.3    68.2\n",
              "1     Sarah O'Donnel      F   22      2       N        AB   170.1    53.0\n",
              "2       Brian Martin      M   24      4       N         B   175.0    80.1\n",
              "3       David Hassel      M   23      3       N        AB   182.1    85.7\n",
              "4    Clara Rodriquez      F   20      1       Y         A   168.0    49.5\n",
              "5   Jennifer Lorentz      F   21      2       N         O   162.0    52.0\n",
              "6        Susan Clark      F   22      1       N         O   155.2    45.3\n",
              "7    Margareth Jones      F   23      1       N         A   176.9    55.0\n",
              "8       John Bertsch      M   23      3       N         B   178.5    64.2\n",
              "9     Jake Timmerman      M   22      2       N         B   176.1    61.3\n",
              "10     Joshua Connor      M   24      4       Y         O   167.1    62.0\n",
              "11      John Matsuda      M   22      2       N        AB   180.0    75.8\n",
              "12      Eddy Johnson      M   21      1       N         A   162.2    55.3\n",
              "13  Rebecah Anderson      F   23      3       N         O   176.1    53.1\n",
              "14      Linda Carter      F   22      2       N         B   158.2    45.2\n",
              "15    Richard Swayze      M   24      4       Y         B   168.6    70.2\n",
              "16       Andrew King      M   21      1       N         A   169.2    62.2"
            ]
          },
          "metadata": {},
          "output_type": "display_data"
        }
      ]
    },
    {
      "cell_type": "markdown",
      "metadata": {
        "id": "tAVpP0qhNVs_"
      },
      "source": [
        "11). Average height of the students with blood type 'A' or 'AB':"
      ]
    },
    {
      "cell_type": "code",
      "metadata": {
        "id": "pf67S0ZMNVs_",
        "outputId": "e6236500-7ebc-4e61-d735-1a45292f9fd0"
      },
      "source": [
        "df[(df.bloodtype=='A')|(df.bloodtype=='AB')].height.mean()"
      ],
      "execution_count": null,
      "outputs": [
        {
          "data": {
            "text/plain": [
              "172.64285714285714"
            ]
          },
          "execution_count": 23,
          "metadata": {},
          "output_type": "execute_result"
        }
      ]
    },
    {
      "cell_type": "markdown",
      "metadata": {
        "id": "yaIVYy5ONVs_"
      },
      "source": [
        "12). Average height of the **male** students with blood type 'A' or 'AB':"
      ]
    },
    {
      "cell_type": "code",
      "metadata": {
        "id": "fGOW-Hc0NVs_",
        "outputId": "0b987d07-de06-431d-d50c-ee63ee0b1cca"
      },
      "source": [
        "df[(df.gender=='M')&((df.bloodtype=='A')|(df.bloodtype=='AB'))].height.mean()"
      ],
      "execution_count": null,
      "outputs": [
        {
          "data": {
            "text/plain": [
              "173.375"
            ]
          },
          "execution_count": 24,
          "metadata": {},
          "output_type": "execute_result"
        }
      ]
    },
    {
      "cell_type": "markdown",
      "metadata": {
        "id": "PAF5s5ayNVs_"
      },
      "source": [
        "13). Average age of the students with absence ('Y') whose grade is equal or larger than 3:"
      ]
    },
    {
      "cell_type": "code",
      "metadata": {
        "id": "NwGALD_qNVs_",
        "outputId": "e3150390-4d7e-4ae8-aab6-37a52268a163"
      },
      "source": [
        "df[(df.absence=='Y')&(df.grade>=3)].age.mean()"
      ],
      "execution_count": null,
      "outputs": [
        {
          "data": {
            "text/plain": [
              "23.666666666666668"
            ]
          },
          "execution_count": 28,
          "metadata": {},
          "output_type": "execute_result"
        }
      ]
    },
    {
      "cell_type": "code",
      "metadata": {
        "id": "QPrMa-wPNVtA"
      },
      "source": [
        ""
      ],
      "execution_count": null,
      "outputs": []
    }
  ]
}