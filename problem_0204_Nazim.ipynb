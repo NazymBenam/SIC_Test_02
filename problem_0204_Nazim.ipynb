{
  "nbformat": 4,
  "nbformat_minor": 0,
  "metadata": {
    "kernelspec": {
      "display_name": "Python 3",
      "language": "python",
      "name": "python3"
    },
    "language_info": {
      "codemirror_mode": {
        "name": "ipython",
        "version": 3
      },
      "file_extension": ".py",
      "mimetype": "text/x-python",
      "name": "python",
      "nbconvert_exporter": "python",
      "pygments_lexer": "ipython3",
      "version": "3.6.9"
    },
    "colab": {
      "name": "problem_0204_Nazim.ipynb",
      "provenance": [],
      "collapsed_sections": []
    }
  },
  "cells": [
    {
      "cell_type": "markdown",
      "metadata": {
        "id": "npUDDFUXOPf9"
      },
      "source": [
        "## Quiz #0204"
      ]
    },
    {
      "cell_type": "code",
      "metadata": {
        "id": "FroolRa1OPgK"
      },
      "source": [
        "import pandas as pd\n",
        "import numpy as np\n",
        "import os\n",
        "import matplotlib.pyplot as plt\n",
        "%matplotlib inline"
      ],
      "execution_count": null,
      "outputs": []
    },
    {
      "cell_type": "markdown",
      "metadata": {
        "id": "uCgGkgk2OPgS"
      },
      "source": [
        "#### Read in the data."
      ]
    },
    {
      "cell_type": "code",
      "metadata": {
        "id": "ple32CQgOPgT"
      },
      "source": [
        "# # Go to the directory where the data file is located. \n",
        "# os.chdir(r'/Users/mac/Desktop/SIC/SIC_AI_Chapter_03_Quiz') "
      ],
      "execution_count": null,
      "outputs": []
    },
    {
      "cell_type": "code",
      "metadata": {
        "id": "SkxaTI0UOPgV"
      },
      "source": [
        "df = pd.read_csv('data_coffeeshop.csv', header='infer',na_values=[' '])"
      ],
      "execution_count": null,
      "outputs": []
    },
    {
      "cell_type": "code",
      "metadata": {
        "id": "W1CO6UjGOPgX",
        "outputId": "64441e9f-d069-4e67-8027-9b0485b3f1ae"
      },
      "source": [
        "df.shape"
      ],
      "execution_count": null,
      "outputs": [
        {
          "data": {
            "text/plain": [
              "(43182, 3)"
            ]
          },
          "execution_count": 38,
          "metadata": {},
          "output_type": "execute_result"
        }
      ]
    },
    {
      "cell_type": "code",
      "metadata": {
        "id": "rKkSp_m0OPgd",
        "outputId": "7cdf9abe-5645-4d2f-ed83-071f4774e8b9"
      },
      "source": [
        "df.head(10)"
      ],
      "execution_count": null,
      "outputs": [
        {
          "data": {
            "text/html": [
              "<div>\n",
              "<style scoped>\n",
              "    .dataframe tbody tr th:only-of-type {\n",
              "        vertical-align: middle;\n",
              "    }\n",
              "\n",
              "    .dataframe tbody tr th {\n",
              "        vertical-align: top;\n",
              "    }\n",
              "\n",
              "    .dataframe thead th {\n",
              "        text-align: right;\n",
              "    }\n",
              "</style>\n",
              "<table border=\"1\" class=\"dataframe\">\n",
              "  <thead>\n",
              "    <tr style=\"text-align: right;\">\n",
              "      <th></th>\n",
              "      <th>yearOfStart</th>\n",
              "      <th>CurrentState</th>\n",
              "      <th>sizeOfsite</th>\n",
              "    </tr>\n",
              "  </thead>\n",
              "  <tbody>\n",
              "    <tr>\n",
              "      <td>0</td>\n",
              "      <td>2008.0</td>\n",
              "      <td>In</td>\n",
              "      <td>20.80</td>\n",
              "    </tr>\n",
              "    <tr>\n",
              "      <td>1</td>\n",
              "      <td>2010.0</td>\n",
              "      <td>In</td>\n",
              "      <td>212.72</td>\n",
              "    </tr>\n",
              "    <tr>\n",
              "      <td>2</td>\n",
              "      <td>2013.0</td>\n",
              "      <td>In</td>\n",
              "      <td>20.04</td>\n",
              "    </tr>\n",
              "    <tr>\n",
              "      <td>3</td>\n",
              "      <td>2012.0</td>\n",
              "      <td>In</td>\n",
              "      <td>64.17</td>\n",
              "    </tr>\n",
              "    <tr>\n",
              "      <td>4</td>\n",
              "      <td>2002.0</td>\n",
              "      <td>Out</td>\n",
              "      <td>11.40</td>\n",
              "    </tr>\n",
              "    <tr>\n",
              "      <td>5</td>\n",
              "      <td>2013.0</td>\n",
              "      <td>In</td>\n",
              "      <td>10.99</td>\n",
              "    </tr>\n",
              "    <tr>\n",
              "      <td>6</td>\n",
              "      <td>2014.0</td>\n",
              "      <td>In</td>\n",
              "      <td>67.50</td>\n",
              "    </tr>\n",
              "    <tr>\n",
              "      <td>7</td>\n",
              "      <td>2011.0</td>\n",
              "      <td>In</td>\n",
              "      <td>46.05</td>\n",
              "    </tr>\n",
              "    <tr>\n",
              "      <td>8</td>\n",
              "      <td>2013.0</td>\n",
              "      <td>In</td>\n",
              "      <td>8.20</td>\n",
              "    </tr>\n",
              "    <tr>\n",
              "      <td>9</td>\n",
              "      <td>2011.0</td>\n",
              "      <td>In</td>\n",
              "      <td>39.92</td>\n",
              "    </tr>\n",
              "  </tbody>\n",
              "</table>\n",
              "</div>"
            ],
            "text/plain": [
              "   yearOfStart CurrentState  sizeOfsite\n",
              "0       2008.0           In       20.80\n",
              "1       2010.0           In      212.72\n",
              "2       2013.0           In       20.04\n",
              "3       2012.0           In       64.17\n",
              "4       2002.0          Out       11.40\n",
              "5       2013.0           In       10.99\n",
              "6       2014.0           In       67.50\n",
              "7       2011.0           In       46.05\n",
              "8       2013.0           In        8.20\n",
              "9       2011.0           In       39.92"
            ]
          },
          "execution_count": 39,
          "metadata": {},
          "output_type": "execute_result"
        }
      ]
    },
    {
      "cell_type": "markdown",
      "metadata": {
        "id": "reqKHTGhOPgg"
      },
      "source": [
        "#### Answer the following questions."
      ]
    },
    {
      "cell_type": "markdown",
      "metadata": {
        "id": "TEWzBH0OOPgj"
      },
      "source": [
        "1). Make a frequency table of 'yearOfStart' and visualize by year. \n",
        "- Sort by the year.\n",
        "- Draw a line plot from 1997 to 2014. <= Hint: plt.xlim()"
      ]
    },
    {
      "cell_type": "code",
      "metadata": {
        "scrolled": true,
        "id": "oewpcr-bOPgm",
        "outputId": "9b9d5677-cf4e-490a-b6b7-1cabb0952fae"
      },
      "source": [
        "df_ = df.yearOfStart.value_counts()\n",
        "frequencyTable_in = df_.sort_values().sort_index()\n",
        "\n",
        "plt.plot(frequencyTable_in.index, frequencyTable_in.values)\n",
        "plt.xlim(1997,2014)\n",
        "\n",
        "#df.sort_values(by = 'yearOfStart').groupby('yearOfStart').count().plot()"
      ],
      "execution_count": null,
      "outputs": [
        {
          "data": {
            "text/plain": [
              "(1997, 2014)"
            ]
          },
          "execution_count": 72,
          "metadata": {},
          "output_type": "execute_result"
        },
        {
          "data": {
            "image/png": "[encoded data removed]",
            "text/plain": [
              "<Figure size 432x288 with 1 Axes>"
            ]
          },
          "metadata": {
            "needs_background": "light"
          },
          "output_type": "display_data"
        }
      ]
    },
    {
      "cell_type": "code",
      "metadata": {
        "id": "5jsFmuyoOPgq"
      },
      "source": [
        ""
      ],
      "execution_count": null,
      "outputs": []
    },
    {
      "cell_type": "markdown",
      "metadata": {
        "id": "J_MlJnIsOPgr"
      },
      "source": [
        "2). Now, split the data by the current state of business ('In' or 'Out' of business). Then, visualize the yearly trend of the 'yearOfStart' frequencies. \n",
        "- Sort by the year.\n",
        "- Draw two overlapping line plots from 1997 to 2014.\n",
        "- Use the 'figure' object."
      ]
    },
    {
      "cell_type": "code",
      "metadata": {
        "id": "EX5D7qgDOPgu",
        "outputId": "3b4a2712-e9a8-49d4-fa88-23f4edb87a36"
      },
      "source": [
        "df1 = df[df['CurrentState']=='In']\n",
        "df2 = df[df['CurrentState']=='Out']\n",
        "\n",
        "fr_1 = df1.yearOfStart.value_counts().sort_index()\n",
        "fr_2 = df2.yearOfStart.value_counts().sort_index()\n",
        "\n",
        "plt.plot(fr_1.index, fr_1.values)\n",
        "plt.plot(fr_2.index, fr_2.values)\n",
        "\n",
        "#dfp_1 = df1.sort_values(by = 'yearOfStart').groupby('yearOfStart').count()\n",
        "#dfp_2 = df2.sort_values(by = 'yearOfStart').groupby('yearOfStart').count()\n",
        "\n",
        "plt.xlim(1997,2014)"
      ],
      "execution_count": null,
      "outputs": [
        {
          "data": {
            "text/plain": [
              "(1997, 2014)"
            ]
          },
          "execution_count": 68,
          "metadata": {},
          "output_type": "execute_result"
        },
        {
          "data": {
            "image/png": "[encoded data removed]",
            "text/plain": [
              "<Figure size 432x288 with 1 Axes>"
            ]
          },
          "metadata": {
            "needs_background": "light"
          },
          "output_type": "display_data"
        }
      ]
    },
    {
      "cell_type": "code",
      "metadata": {
        "id": "fj5lan_7OPgx"
      },
      "source": [
        ""
      ],
      "execution_count": null,
      "outputs": []
    },
    {
      "cell_type": "code",
      "metadata": {
        "id": "p5yOW7lvOPgz"
      },
      "source": [
        ""
      ],
      "execution_count": null,
      "outputs": []
    },
    {
      "cell_type": "markdown",
      "metadata": {
        "id": "eDrzS3ArOPg0"
      },
      "source": [
        "3). From the results of 1) and 2), how can you describe the trend in general?"
      ]
    },
    {
      "cell_type": "markdown",
      "metadata": {
        "id": "HMKXU09OOPg1"
      },
      "source": [
        "- Around the year 2008, began a steep increase in the number of new coffee shops.\n",
        "- As of the year 2014, more coffee shops opened in the past 5 years are still in business rather than going out of business."
      ]
    },
    {
      "cell_type": "code",
      "metadata": {
        "id": "hJQbDXcuOPg2"
      },
      "source": [
        ""
      ],
      "execution_count": null,
      "outputs": []
    }
  ]
}