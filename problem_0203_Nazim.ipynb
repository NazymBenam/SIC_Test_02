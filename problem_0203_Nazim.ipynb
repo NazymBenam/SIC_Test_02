{
  "nbformat": 4,
  "nbformat_minor": 0,
  "metadata": {
    "kernelspec": {
      "display_name": "Python 3",
      "language": "python",
      "name": "python3"
    },
    "language_info": {
      "codemirror_mode": {
        "name": "ipython",
        "version": 3
      },
      "file_extension": ".py",
      "mimetype": "text/x-python",
      "name": "python",
      "nbconvert_exporter": "python",
      "pygments_lexer": "ipython3",
      "version": "3.6.9"
    },
    "colab": {
      "name": "problem_0203_Nazim.ipynb",
      "provenance": [],
      "collapsed_sections": []
    }
  },
  "cells": [
    {
      "cell_type": "markdown",
      "metadata": {
        "id": "kbaSkKsUOFwJ"
      },
      "source": [
        "## Quiz #0203 "
      ]
    },
    {
      "cell_type": "code",
      "metadata": {
        "id": "awf1yxt4OFwM"
      },
      "source": [
        "import pandas as pd\n",
        "import numpy as np\n",
        "import os"
      ],
      "execution_count": null,
      "outputs": []
    },
    {
      "cell_type": "markdown",
      "metadata": {
        "id": "hO3hrGPCOFwO"
      },
      "source": [
        "#### Read in the data."
      ]
    },
    {
      "cell_type": "code",
      "metadata": {
        "id": "UHsqPevNOFwO"
      },
      "source": [
        "# # Go to the directory where the data file is located. \n",
        "# os.chdir(r'/Users/mac/Desktop/SIC/SIC_AI_Chapter_03_Quiz')                # Please, replace the path with your own."
      ],
      "execution_count": null,
      "outputs": []
    },
    {
      "cell_type": "code",
      "metadata": {
        "id": "Yr5gGOiROFwP"
      },
      "source": [
        "df = pd.read_csv('data_sales.csv', header='infer')"
      ],
      "execution_count": null,
      "outputs": []
    },
    {
      "cell_type": "code",
      "metadata": {
        "id": "lWzuayZ2OFwP",
        "outputId": "a9ace49c-97ec-4b99-acd1-a7bef91d9883"
      },
      "source": [
        "df.shape"
      ],
      "execution_count": null,
      "outputs": [
        {
          "data": {
            "text/plain": [
              "(43, 5)"
            ]
          },
          "execution_count": 4,
          "metadata": {},
          "output_type": "execute_result"
        }
      ]
    },
    {
      "cell_type": "code",
      "metadata": {
        "id": "XAuqD2mTOFwR",
        "outputId": "b6828c62-bf2e-4ef5-86a5-902bf47846cd"
      },
      "source": [
        "df.head(10)"
      ],
      "execution_count": null,
      "outputs": [
        {
          "data": {
            "text/html": [
              "<div>\n",
              "<style scoped>\n",
              "    .dataframe tbody tr th:only-of-type {\n",
              "        vertical-align: middle;\n",
              "    }\n",
              "\n",
              "    .dataframe tbody tr th {\n",
              "        vertical-align: top;\n",
              "    }\n",
              "\n",
              "    .dataframe thead th {\n",
              "        text-align: right;\n",
              "    }\n",
              "</style>\n",
              "<table border=\"1\" class=\"dataframe\">\n",
              "  <thead>\n",
              "    <tr style=\"text-align: right;\">\n",
              "      <th></th>\n",
              "      <th>Date</th>\n",
              "      <th>Region</th>\n",
              "      <th>Item</th>\n",
              "      <th>UnitPrice</th>\n",
              "      <th>Units</th>\n",
              "    </tr>\n",
              "  </thead>\n",
              "  <tbody>\n",
              "    <tr>\n",
              "      <td>0</td>\n",
              "      <td>4-Jul-2014</td>\n",
              "      <td>East</td>\n",
              "      <td>Pen Set</td>\n",
              "      <td>4.99</td>\n",
              "      <td>62</td>\n",
              "    </tr>\n",
              "    <tr>\n",
              "      <td>1</td>\n",
              "      <td>12-Jul-2014</td>\n",
              "      <td>East</td>\n",
              "      <td>Binder</td>\n",
              "      <td>1.99</td>\n",
              "      <td>29</td>\n",
              "    </tr>\n",
              "    <tr>\n",
              "      <td>2</td>\n",
              "      <td>21-Jul-2014</td>\n",
              "      <td>Central</td>\n",
              "      <td>Pen Set</td>\n",
              "      <td>12.49</td>\n",
              "      <td>55</td>\n",
              "    </tr>\n",
              "    <tr>\n",
              "      <td>3</td>\n",
              "      <td>29-Jul-2014</td>\n",
              "      <td>East</td>\n",
              "      <td>Binder</td>\n",
              "      <td>19.99</td>\n",
              "      <td>81</td>\n",
              "    </tr>\n",
              "    <tr>\n",
              "      <td>4</td>\n",
              "      <td>7-Aug-2014</td>\n",
              "      <td>Central</td>\n",
              "      <td>Pen Set</td>\n",
              "      <td>23.95</td>\n",
              "      <td>42</td>\n",
              "    </tr>\n",
              "    <tr>\n",
              "      <td>5</td>\n",
              "      <td>15-Aug-2014</td>\n",
              "      <td>East</td>\n",
              "      <td>Pencil</td>\n",
              "      <td>4.99</td>\n",
              "      <td>35</td>\n",
              "    </tr>\n",
              "    <tr>\n",
              "      <td>6</td>\n",
              "      <td>24-Aug-2014</td>\n",
              "      <td>West</td>\n",
              "      <td>Desk</td>\n",
              "      <td>275.00</td>\n",
              "      <td>3</td>\n",
              "    </tr>\n",
              "    <tr>\n",
              "      <td>7</td>\n",
              "      <td>1-Sep-2014</td>\n",
              "      <td>Central</td>\n",
              "      <td>Desk</td>\n",
              "      <td>125.00</td>\n",
              "      <td>2</td>\n",
              "    </tr>\n",
              "    <tr>\n",
              "      <td>8</td>\n",
              "      <td>10-Sep-2014</td>\n",
              "      <td>Central</td>\n",
              "      <td>Pencil</td>\n",
              "      <td>1.29</td>\n",
              "      <td>7</td>\n",
              "    </tr>\n",
              "    <tr>\n",
              "      <td>9</td>\n",
              "      <td>18-Sep-2014</td>\n",
              "      <td>East</td>\n",
              "      <td>Pen Set</td>\n",
              "      <td>15.99</td>\n",
              "      <td>16</td>\n",
              "    </tr>\n",
              "  </tbody>\n",
              "</table>\n",
              "</div>"
            ],
            "text/plain": [
              "          Date   Region     Item  UnitPrice  Units\n",
              "0   4-Jul-2014     East  Pen Set       4.99     62\n",
              "1  12-Jul-2014     East   Binder       1.99     29\n",
              "2  21-Jul-2014  Central  Pen Set      12.49     55\n",
              "3  29-Jul-2014     East   Binder      19.99     81\n",
              "4   7-Aug-2014  Central  Pen Set      23.95     42\n",
              "5  15-Aug-2014     East   Pencil       4.99     35\n",
              "6  24-Aug-2014     West     Desk     275.00      3\n",
              "7   1-Sep-2014  Central     Desk     125.00      2\n",
              "8  10-Sep-2014  Central   Pencil       1.29      7\n",
              "9  18-Sep-2014     East  Pen Set      15.99     16"
            ]
          },
          "execution_count": 5,
          "metadata": {},
          "output_type": "execute_result"
        }
      ]
    },
    {
      "cell_type": "markdown",
      "metadata": {
        "id": "tWWvxoszOFwS"
      },
      "source": [
        "#### Answer the following questions."
      ]
    },
    {
      "cell_type": "markdown",
      "metadata": {
        "id": "-NiWXwNLOFwS"
      },
      "source": [
        "1). Append a new variable $Amount = UnitPric \\times Units$."
      ]
    },
    {
      "cell_type": "code",
      "metadata": {
        "id": "FK16yTv6OFwT",
        "outputId": "3511f59f-9df8-409f-88a8-cb9aa85c3284"
      },
      "source": [
        "df['Amount'] = df.UnitPrice * df.Units\n",
        "df.head()"
      ],
      "execution_count": null,
      "outputs": [
        {
          "data": {
            "text/html": [
              "<div>\n",
              "<style scoped>\n",
              "    .dataframe tbody tr th:only-of-type {\n",
              "        vertical-align: middle;\n",
              "    }\n",
              "\n",
              "    .dataframe tbody tr th {\n",
              "        vertical-align: top;\n",
              "    }\n",
              "\n",
              "    .dataframe thead th {\n",
              "        text-align: right;\n",
              "    }\n",
              "</style>\n",
              "<table border=\"1\" class=\"dataframe\">\n",
              "  <thead>\n",
              "    <tr style=\"text-align: right;\">\n",
              "      <th></th>\n",
              "      <th>Date</th>\n",
              "      <th>Region</th>\n",
              "      <th>Item</th>\n",
              "      <th>UnitPrice</th>\n",
              "      <th>Units</th>\n",
              "      <th>Amount</th>\n",
              "    </tr>\n",
              "  </thead>\n",
              "  <tbody>\n",
              "    <tr>\n",
              "      <td>0</td>\n",
              "      <td>4-Jul-2014</td>\n",
              "      <td>East</td>\n",
              "      <td>Pen Set</td>\n",
              "      <td>4.99</td>\n",
              "      <td>62</td>\n",
              "      <td>309.38</td>\n",
              "    </tr>\n",
              "    <tr>\n",
              "      <td>1</td>\n",
              "      <td>12-Jul-2014</td>\n",
              "      <td>East</td>\n",
              "      <td>Binder</td>\n",
              "      <td>1.99</td>\n",
              "      <td>29</td>\n",
              "      <td>57.71</td>\n",
              "    </tr>\n",
              "    <tr>\n",
              "      <td>2</td>\n",
              "      <td>21-Jul-2014</td>\n",
              "      <td>Central</td>\n",
              "      <td>Pen Set</td>\n",
              "      <td>12.49</td>\n",
              "      <td>55</td>\n",
              "      <td>686.95</td>\n",
              "    </tr>\n",
              "    <tr>\n",
              "      <td>3</td>\n",
              "      <td>29-Jul-2014</td>\n",
              "      <td>East</td>\n",
              "      <td>Binder</td>\n",
              "      <td>19.99</td>\n",
              "      <td>81</td>\n",
              "      <td>1619.19</td>\n",
              "    </tr>\n",
              "    <tr>\n",
              "      <td>4</td>\n",
              "      <td>7-Aug-2014</td>\n",
              "      <td>Central</td>\n",
              "      <td>Pen Set</td>\n",
              "      <td>23.95</td>\n",
              "      <td>42</td>\n",
              "      <td>1005.90</td>\n",
              "    </tr>\n",
              "  </tbody>\n",
              "</table>\n",
              "</div>"
            ],
            "text/plain": [
              "          Date   Region     Item  UnitPrice  Units   Amount\n",
              "0   4-Jul-2014     East  Pen Set       4.99     62   309.38\n",
              "1  12-Jul-2014     East   Binder       1.99     29    57.71\n",
              "2  21-Jul-2014  Central  Pen Set      12.49     55   686.95\n",
              "3  29-Jul-2014     East   Binder      19.99     81  1619.19\n",
              "4   7-Aug-2014  Central  Pen Set      23.95     42  1005.90"
            ]
          },
          "execution_count": 8,
          "metadata": {},
          "output_type": "execute_result"
        }
      ]
    },
    {
      "cell_type": "markdown",
      "metadata": {
        "id": "RcV8hjf1OFwU"
      },
      "source": [
        "2). Average unit price for each region. Use the groupby() method."
      ]
    },
    {
      "cell_type": "code",
      "metadata": {
        "id": "Xf8LI2kiOFwU",
        "outputId": "6795bbdc-bfb3-4e72-d037-52702cd4a47e"
      },
      "source": [
        "df.groupby(['Region']).UnitPrice.mean()"
      ],
      "execution_count": null,
      "outputs": [
        {
          "data": {
            "text/plain": [
              "Region\n",
              "Central    18.018750\n",
              "East        9.143846\n",
              "West       53.658333\n",
              "Name: UnitPrice, dtype: float64"
            ]
          },
          "execution_count": 11,
          "metadata": {},
          "output_type": "execute_result"
        }
      ]
    },
    {
      "cell_type": "markdown",
      "metadata": {
        "id": "aUdVu8v4OFwV"
      },
      "source": [
        "3). Average unit price for each region. Use the pivot_table() method."
      ]
    },
    {
      "cell_type": "code",
      "metadata": {
        "id": "E8AIKFjDOFwV",
        "outputId": "82c83957-639e-4200-caa1-25905e85d7a5"
      },
      "source": [
        "df.pivot_table(index = 'Region', values = 'UnitPrice', aggfunc=np.mean)"
      ],
      "execution_count": null,
      "outputs": [
        {
          "data": {
            "text/html": [
              "<div>\n",
              "<style scoped>\n",
              "    .dataframe tbody tr th:only-of-type {\n",
              "        vertical-align: middle;\n",
              "    }\n",
              "\n",
              "    .dataframe tbody tr th {\n",
              "        vertical-align: top;\n",
              "    }\n",
              "\n",
              "    .dataframe thead th {\n",
              "        text-align: right;\n",
              "    }\n",
              "</style>\n",
              "<table border=\"1\" class=\"dataframe\">\n",
              "  <thead>\n",
              "    <tr style=\"text-align: right;\">\n",
              "      <th></th>\n",
              "      <th>UnitPrice</th>\n",
              "    </tr>\n",
              "    <tr>\n",
              "      <th>Region</th>\n",
              "      <th></th>\n",
              "    </tr>\n",
              "  </thead>\n",
              "  <tbody>\n",
              "    <tr>\n",
              "      <td>Central</td>\n",
              "      <td>18.018750</td>\n",
              "    </tr>\n",
              "    <tr>\n",
              "      <td>East</td>\n",
              "      <td>9.143846</td>\n",
              "    </tr>\n",
              "    <tr>\n",
              "      <td>West</td>\n",
              "      <td>53.658333</td>\n",
              "    </tr>\n",
              "  </tbody>\n",
              "</table>\n",
              "</div>"
            ],
            "text/plain": [
              "         UnitPrice\n",
              "Region            \n",
              "Central  18.018750\n",
              "East      9.143846\n",
              "West     53.658333"
            ]
          },
          "execution_count": 12,
          "metadata": {},
          "output_type": "execute_result"
        }
      ]
    },
    {
      "cell_type": "markdown",
      "metadata": {
        "id": "ERnODd45OFwW"
      },
      "source": [
        "4). Average unit price and units for each region in one code sentence. Use the groupby() method. "
      ]
    },
    {
      "cell_type": "code",
      "metadata": {
        "id": "lvXwwl8AOFwW",
        "outputId": "f39b3847-bba3-4713-e396-1c8069837c16"
      },
      "source": [
        "df.groupby(['Region'])['UnitPrice','Units'].mean()"
      ],
      "execution_count": null,
      "outputs": [
        {
          "data": {
            "text/html": [
              "<div>\n",
              "<style scoped>\n",
              "    .dataframe tbody tr th:only-of-type {\n",
              "        vertical-align: middle;\n",
              "    }\n",
              "\n",
              "    .dataframe tbody tr th {\n",
              "        vertical-align: top;\n",
              "    }\n",
              "\n",
              "    .dataframe thead th {\n",
              "        text-align: right;\n",
              "    }\n",
              "</style>\n",
              "<table border=\"1\" class=\"dataframe\">\n",
              "  <thead>\n",
              "    <tr style=\"text-align: right;\">\n",
              "      <th></th>\n",
              "      <th>UnitPrice</th>\n",
              "      <th>Units</th>\n",
              "    </tr>\n",
              "    <tr>\n",
              "      <th>Region</th>\n",
              "      <th></th>\n",
              "      <th></th>\n",
              "    </tr>\n",
              "  </thead>\n",
              "  <tbody>\n",
              "    <tr>\n",
              "      <td>Central</td>\n",
              "      <td>18.018750</td>\n",
              "      <td>49.958333</td>\n",
              "    </tr>\n",
              "    <tr>\n",
              "      <td>East</td>\n",
              "      <td>9.143846</td>\n",
              "      <td>53.153846</td>\n",
              "    </tr>\n",
              "    <tr>\n",
              "      <td>West</td>\n",
              "      <td>53.658333</td>\n",
              "      <td>38.500000</td>\n",
              "    </tr>\n",
              "  </tbody>\n",
              "</table>\n",
              "</div>"
            ],
            "text/plain": [
              "         UnitPrice      Units\n",
              "Region                       \n",
              "Central  18.018750  49.958333\n",
              "East      9.143846  53.153846\n",
              "West     53.658333  38.500000"
            ]
          },
          "execution_count": 15,
          "metadata": {},
          "output_type": "execute_result"
        }
      ]
    },
    {
      "cell_type": "markdown",
      "metadata": {
        "id": "J7XVoAGMOFwW"
      },
      "source": [
        "5). Average unit price and units for each region in one code sentence. Use the pivot_table() method. "
      ]
    },
    {
      "cell_type": "code",
      "metadata": {
        "id": "xVppyPMZOFwX",
        "outputId": "de468fda-8977-4836-de7c-645055193c04"
      },
      "source": [
        "df.pivot_table(index = 'Region', values = ['UnitPrice','Units'], aggfunc=np.mean)"
      ],
      "execution_count": null,
      "outputs": [
        {
          "data": {
            "text/html": [
              "<div>\n",
              "<style scoped>\n",
              "    .dataframe tbody tr th:only-of-type {\n",
              "        vertical-align: middle;\n",
              "    }\n",
              "\n",
              "    .dataframe tbody tr th {\n",
              "        vertical-align: top;\n",
              "    }\n",
              "\n",
              "    .dataframe thead th {\n",
              "        text-align: right;\n",
              "    }\n",
              "</style>\n",
              "<table border=\"1\" class=\"dataframe\">\n",
              "  <thead>\n",
              "    <tr style=\"text-align: right;\">\n",
              "      <th></th>\n",
              "      <th>UnitPrice</th>\n",
              "      <th>Units</th>\n",
              "    </tr>\n",
              "    <tr>\n",
              "      <th>Region</th>\n",
              "      <th></th>\n",
              "      <th></th>\n",
              "    </tr>\n",
              "  </thead>\n",
              "  <tbody>\n",
              "    <tr>\n",
              "      <td>Central</td>\n",
              "      <td>18.018750</td>\n",
              "      <td>49.958333</td>\n",
              "    </tr>\n",
              "    <tr>\n",
              "      <td>East</td>\n",
              "      <td>9.143846</td>\n",
              "      <td>53.153846</td>\n",
              "    </tr>\n",
              "    <tr>\n",
              "      <td>West</td>\n",
              "      <td>53.658333</td>\n",
              "      <td>38.500000</td>\n",
              "    </tr>\n",
              "  </tbody>\n",
              "</table>\n",
              "</div>"
            ],
            "text/plain": [
              "         UnitPrice      Units\n",
              "Region                       \n",
              "Central  18.018750  49.958333\n",
              "East      9.143846  53.153846\n",
              "West     53.658333  38.500000"
            ]
          },
          "execution_count": 16,
          "metadata": {},
          "output_type": "execute_result"
        }
      ]
    },
    {
      "cell_type": "markdown",
      "metadata": {
        "id": "1EELezgeOFwX"
      },
      "source": [
        "6). Total units for each region and item type in one code sentence. Use the pivot_table() method. Fill the missing values with 0."
      ]
    },
    {
      "cell_type": "code",
      "metadata": {
        "id": "W16270m1OFwX",
        "outputId": "4f601336-9c8e-47e4-e62c-9c0129d7135c"
      },
      "source": [
        "df.pivot_table(index = ['Region','Item'], values = 'UnitPrice', aggfunc=np.sum).fillna(0)"
      ],
      "execution_count": null,
      "outputs": [
        {
          "data": {
            "text/html": [
              "<div>\n",
              "<style scoped>\n",
              "    .dataframe tbody tr th:only-of-type {\n",
              "        vertical-align: middle;\n",
              "    }\n",
              "\n",
              "    .dataframe tbody tr th {\n",
              "        vertical-align: top;\n",
              "    }\n",
              "\n",
              "    .dataframe thead th {\n",
              "        text-align: right;\n",
              "    }\n",
              "</style>\n",
              "<table border=\"1\" class=\"dataframe\">\n",
              "  <thead>\n",
              "    <tr style=\"text-align: right;\">\n",
              "      <th></th>\n",
              "      <th></th>\n",
              "      <th>UnitPrice</th>\n",
              "    </tr>\n",
              "    <tr>\n",
              "      <th>Region</th>\n",
              "      <th>Item</th>\n",
              "      <th></th>\n",
              "    </tr>\n",
              "  </thead>\n",
              "  <tbody>\n",
              "    <tr>\n",
              "      <td rowspan=\"5\" valign=\"top\">Central</td>\n",
              "      <td>Binder</td>\n",
              "      <td>91.93</td>\n",
              "    </tr>\n",
              "    <tr>\n",
              "      <td>Desk</td>\n",
              "      <td>250.00</td>\n",
              "    </tr>\n",
              "    <tr>\n",
              "      <td>Pen</td>\n",
              "      <td>19.99</td>\n",
              "    </tr>\n",
              "    <tr>\n",
              "      <td>Pen Set</td>\n",
              "      <td>46.42</td>\n",
              "    </tr>\n",
              "    <tr>\n",
              "      <td>Pencil</td>\n",
              "      <td>24.11</td>\n",
              "    </tr>\n",
              "    <tr>\n",
              "      <td rowspan=\"4\" valign=\"top\">East</td>\n",
              "      <td>Binder</td>\n",
              "      <td>40.95</td>\n",
              "    </tr>\n",
              "    <tr>\n",
              "      <td>Pen</td>\n",
              "      <td>33.97</td>\n",
              "    </tr>\n",
              "    <tr>\n",
              "      <td>Pen Set</td>\n",
              "      <td>36.97</td>\n",
              "    </tr>\n",
              "    <tr>\n",
              "      <td>Pencil</td>\n",
              "      <td>6.98</td>\n",
              "    </tr>\n",
              "    <tr>\n",
              "      <td rowspan=\"4\" valign=\"top\">West</td>\n",
              "      <td>Binder</td>\n",
              "      <td>39.98</td>\n",
              "    </tr>\n",
              "    <tr>\n",
              "      <td>Desk</td>\n",
              "      <td>275.00</td>\n",
              "    </tr>\n",
              "    <tr>\n",
              "      <td>Pen</td>\n",
              "      <td>1.99</td>\n",
              "    </tr>\n",
              "    <tr>\n",
              "      <td>Pencil</td>\n",
              "      <td>4.98</td>\n",
              "    </tr>\n",
              "  </tbody>\n",
              "</table>\n",
              "</div>"
            ],
            "text/plain": [
              "                 UnitPrice\n",
              "Region  Item              \n",
              "Central Binder       91.93\n",
              "        Desk        250.00\n",
              "        Pen          19.99\n",
              "        Pen Set      46.42\n",
              "        Pencil       24.11\n",
              "East    Binder       40.95\n",
              "        Pen          33.97\n",
              "        Pen Set      36.97\n",
              "        Pencil        6.98\n",
              "West    Binder       39.98\n",
              "        Desk        275.00\n",
              "        Pen           1.99\n",
              "        Pencil        4.98"
            ]
          },
          "execution_count": 21,
          "metadata": {},
          "output_type": "execute_result"
        }
      ]
    },
    {
      "cell_type": "markdown",
      "metadata": {
        "id": "SPY7f2nuOFwY"
      },
      "source": [
        "7). Total sales amount for each region and item type in one code sentence. Use the pivot_table() method. Fill the missing values with 0."
      ]
    },
    {
      "cell_type": "code",
      "metadata": {
        "id": "0P9v4Ga2OFwY",
        "outputId": "39b1a635-4f52-4563-ce55-98aa0f738579"
      },
      "source": [
        "df.pivot_table(index = ['Region','Item'], values = 'Amount', aggfunc=np.sum).fillna(0)"
      ],
      "execution_count": null,
      "outputs": [
        {
          "data": {
            "text/html": [
              "<div>\n",
              "<style scoped>\n",
              "    .dataframe tbody tr th:only-of-type {\n",
              "        vertical-align: middle;\n",
              "    }\n",
              "\n",
              "    .dataframe tbody tr th {\n",
              "        vertical-align: top;\n",
              "    }\n",
              "\n",
              "    .dataframe thead th {\n",
              "        text-align: right;\n",
              "    }\n",
              "</style>\n",
              "<table border=\"1\" class=\"dataframe\">\n",
              "  <thead>\n",
              "    <tr style=\"text-align: right;\">\n",
              "      <th></th>\n",
              "      <th></th>\n",
              "      <th>Amount</th>\n",
              "    </tr>\n",
              "    <tr>\n",
              "      <th>Region</th>\n",
              "      <th>Item</th>\n",
              "      <th></th>\n",
              "    </tr>\n",
              "  </thead>\n",
              "  <tbody>\n",
              "    <tr>\n",
              "      <td rowspan=\"5\" valign=\"top\">Central</td>\n",
              "      <td>Binder</td>\n",
              "      <td>5762.63</td>\n",
              "    </tr>\n",
              "    <tr>\n",
              "      <td>Desk</td>\n",
              "      <td>875.00</td>\n",
              "    </tr>\n",
              "    <tr>\n",
              "      <td>Pen</td>\n",
              "      <td>539.73</td>\n",
              "    </tr>\n",
              "    <tr>\n",
              "      <td>Pen Set</td>\n",
              "      <td>2421.39</td>\n",
              "    </tr>\n",
              "    <tr>\n",
              "      <td>Pencil</td>\n",
              "      <td>1540.32</td>\n",
              "    </tr>\n",
              "    <tr>\n",
              "      <td rowspan=\"4\" valign=\"top\">East</td>\n",
              "      <td>Binder</td>\n",
              "      <td>2535.66</td>\n",
              "    </tr>\n",
              "    <tr>\n",
              "      <td>Pen</td>\n",
              "      <td>1354.25</td>\n",
              "    </tr>\n",
              "    <tr>\n",
              "      <td>Pen Set</td>\n",
              "      <td>1748.48</td>\n",
              "    </tr>\n",
              "    <tr>\n",
              "      <td>Pencil</td>\n",
              "      <td>363.70</td>\n",
              "    </tr>\n",
              "    <tr>\n",
              "      <td rowspan=\"4\" valign=\"top\">West</td>\n",
              "      <td>Binder</td>\n",
              "      <td>1279.36</td>\n",
              "    </tr>\n",
              "    <tr>\n",
              "      <td>Desk</td>\n",
              "      <td>825.00</td>\n",
              "    </tr>\n",
              "    <tr>\n",
              "      <td>Pen</td>\n",
              "      <td>151.24</td>\n",
              "    </tr>\n",
              "    <tr>\n",
              "      <td>Pencil</td>\n",
              "      <td>231.12</td>\n",
              "    </tr>\n",
              "  </tbody>\n",
              "</table>\n",
              "</div>"
            ],
            "text/plain": [
              "                  Amount\n",
              "Region  Item            \n",
              "Central Binder   5762.63\n",
              "        Desk      875.00\n",
              "        Pen       539.73\n",
              "        Pen Set  2421.39\n",
              "        Pencil   1540.32\n",
              "East    Binder   2535.66\n",
              "        Pen      1354.25\n",
              "        Pen Set  1748.48\n",
              "        Pencil    363.70\n",
              "West    Binder   1279.36\n",
              "        Desk      825.00\n",
              "        Pen       151.24\n",
              "        Pencil    231.12"
            ]
          },
          "execution_count": 22,
          "metadata": {},
          "output_type": "execute_result"
        }
      ]
    },
    {
      "cell_type": "code",
      "metadata": {
        "id": "tFiXVM6JOFwZ"
      },
      "source": [
        ""
      ],
      "execution_count": null,
      "outputs": []
    }
  ]
}